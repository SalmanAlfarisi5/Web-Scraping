{
 "cells": [
  {
   "cell_type": "code",
   "execution_count": 123,
   "id": "06a8d5e0",
   "metadata": {},
   "outputs": [],
   "source": [
    "import requests\n",
    "from bs4 import BeautifulSoup\n",
    "import time"
   ]
  },
  {
   "cell_type": "code",
   "execution_count": 124,
   "id": "53980c3a",
   "metadata": {},
   "outputs": [],
   "source": [
    "def find_jobs():\n",
    "    request = requests.get('https://www.timesjobs.com/candidate/job-search.html?searchType=personalizedSearch&from=submit&searchTextSrc=&searchTextText=&txtKeywords=python&txtLocation=').text\n",
    "    soup = BeautifulSoup(request)\n",
    "    jobs = soup.find_all('li', class_=\"clearfix job-bx wht-shd-bx\")\n",
    "\n",
    "    for index, job in enumerate(jobs):    \n",
    "        company_name = job.find('h3', class_='joblist-comp-name').text\n",
    "        role = job.find('h2', class_='heading-trun').text\n",
    "        skills_container = job.find('div', class_='more-skills-sections')\n",
    "        required_skills = []\n",
    "        if skills_container:\n",
    "            skills = skills_container.find_all('span')\n",
    "            for skill in skills:\n",
    "                cleaned = skill.get_text(strip=True)\n",
    "                required_skills.append(cleaned)\n",
    "        date = job.find('span', class_='sim-posted').span.text \n",
    "        more_info = job.header.h2.a['href']\n",
    "        if 'few' not in date:\n",
    "            continue\n",
    "        with open(f'posts/{index}.txt', 'w') as f:\n",
    "            f.write(f\"Company: {company_name.strip()} \\n\")\n",
    "            f.write(f\"Role:{role.strip()} \\n\")\n",
    "            f.write(f\"Skills: {required_skills} \\n\")\n",
    "            f.write(f\"Published Date: {date} \\n\")\n",
    "            f.write(f\"More Information: {more_info} \\n\")\n",
    "        print(f'File saved: {index}')\n"
   ]
  },
  {
   "cell_type": "code",
   "execution_count": 125,
   "id": "ea550cf9",
   "metadata": {},
   "outputs": [
    {
     "name": "stdout",
     "output_type": "stream",
     "text": [
      "File saved: 0\n",
      "File saved: 1\n",
      "File saved: 3\n",
      "File saved: 5\n",
      "File saved: 6\n",
      "File saved: 7\n",
      "File saved: 8\n",
      "File saved: 10\n",
      "File saved: 11\n",
      "File saved: 12\n",
      "File saved: 13\n",
      "File saved: 16\n",
      "File saved: 18\n",
      "File saved: 19\n",
      "File saved: 20\n",
      "File saved: 21\n",
      "File saved: 22\n",
      "File saved: 23\n",
      "File saved: 24\n",
      "Waiting 10 minutes\n"
     ]
    },
    {
     "ename": "KeyboardInterrupt",
     "evalue": "",
     "output_type": "error",
     "traceback": [
      "\u001b[0;31m---------------------------------------------------------------------------\u001b[0m",
      "\u001b[0;31mKeyboardInterrupt\u001b[0m                         Traceback (most recent call last)",
      "Cell \u001b[0;32mIn[125], line 6\u001b[0m\n\u001b[1;32m      4\u001b[0m time_wait \u001b[38;5;241m=\u001b[39m \u001b[38;5;241m10\u001b[39m\n\u001b[1;32m      5\u001b[0m \u001b[38;5;28mprint\u001b[39m(\u001b[38;5;124mf\u001b[39m\u001b[38;5;124m'\u001b[39m\u001b[38;5;124mWaiting \u001b[39m\u001b[38;5;132;01m{\u001b[39;00mtime_wait\u001b[38;5;132;01m}\u001b[39;00m\u001b[38;5;124m minutes\u001b[39m\u001b[38;5;124m'\u001b[39m)\n\u001b[0;32m----> 6\u001b[0m \u001b[43mtime\u001b[49m\u001b[38;5;241;43m.\u001b[39;49m\u001b[43msleep\u001b[49m\u001b[43m(\u001b[49m\u001b[38;5;241;43m60\u001b[39;49m\u001b[43m \u001b[49m\u001b[38;5;241;43m*\u001b[39;49m\u001b[43m \u001b[49m\u001b[43mtime_wait\u001b[49m\u001b[43m)\u001b[49m\n",
      "\u001b[0;31mKeyboardInterrupt\u001b[0m: "
     ]
    }
   ],
   "source": [
    "if __name__ == '__main__':\n",
    "    while True:\n",
    "        find_jobs()\n",
    "        time_wait = 10\n",
    "        print(f'Waiting {time_wait} minutes')\n",
    "        time.sleep(60 * time_wait)"
   ]
  }
 ],
 "metadata": {
  "kernelspec": {
   "display_name": "GPU",
   "language": "python",
   "name": "python3"
  },
  "language_info": {
   "name": "python",
   "version": "3.10.16"
  }
 },
 "nbformat": 4,
 "nbformat_minor": 5
}
