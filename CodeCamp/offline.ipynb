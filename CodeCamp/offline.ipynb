{
 "cells": [
  {
   "cell_type": "code",
   "execution_count": 6,
   "id": "9bbd9eaa",
   "metadata": {},
   "outputs": [],
   "source": [
    "from bs4 import BeautifulSoup"
   ]
  },
  {
   "cell_type": "code",
   "execution_count": 21,
   "id": "3b18f661",
   "metadata": {},
   "outputs": [
    {
     "name": "stdout",
     "output_type": "stream",
     "text": [
      "20$\n",
      "50$\n",
      "100$\n"
     ]
    }
   ],
   "source": [
    "# find price\n",
    "with open('home.html', 'r') as html_file:\n",
    "    content = html_file.read()\n",
    "\n",
    "    soup = BeautifulSoup(content)\n",
    "    course = soup.find_all('a')\n",
    "\n",
    "    for c in course:\n",
    "        print(c.text.split()[-1])"
   ]
  },
  {
   "cell_type": "code",
   "execution_count": 33,
   "id": "91da1515",
   "metadata": {},
   "outputs": [
    {
     "name": "stdout",
     "output_type": "stream",
     "text": [
      "Python for beginners costs 20$\n",
      "Python Web Development costs 50$\n",
      "Python Machine Learning costs 100$\n"
     ]
    }
   ],
   "source": [
    "# find price\n",
    "with open('home.html', 'r') as html_file:\n",
    "    content = html_file.read()\n",
    "\n",
    "    soup = BeautifulSoup(content)\n",
    "    course_cards = soup.find_all('div', class_='card')\n",
    "\n",
    "    for course in course_cards:\n",
    "        course_name = course.h5.text\n",
    "\n",
    "        course_price = course.a.text.split()[-1]\n",
    "\n",
    "        print(f'{course_name} costs {course_price}')\n",
    "\n"
   ]
  }
 ],
 "metadata": {
  "kernelspec": {
   "display_name": "GPU",
   "language": "python",
   "name": "python3"
  },
  "language_info": {
   "codemirror_mode": {
    "name": "ipython",
    "version": 3
   },
   "file_extension": ".py",
   "mimetype": "text/x-python",
   "name": "python",
   "nbconvert_exporter": "python",
   "pygments_lexer": "ipython3",
   "version": "3.10.16"
  }
 },
 "nbformat": 4,
 "nbformat_minor": 5
}
